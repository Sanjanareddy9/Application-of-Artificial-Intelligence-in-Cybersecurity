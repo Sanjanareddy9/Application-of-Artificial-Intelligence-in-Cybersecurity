{
  "nbformat": 4,
  "nbformat_minor": 0,
  "metadata": {
    "kernelspec": {
      "display_name": "Python 3",
      "language": "python",
      "name": "python3"
    },
    "language_info": {
      "codemirror_mode": {
        "name": "ipython",
        "version": 3
      },
      "file_extension": ".py",
      "mimetype": "text/x-python",
      "name": "python",
      "nbconvert_exporter": "python",
      "pygments_lexer": "ipython3",
      "version": "3.7.4"
    },
    "colab": {
      "name": "MQ46130713_Week7.ipynb",
      "provenance": []
    }
  },
  "cells": [
    {
      "cell_type": "markdown",
      "metadata": {
        "id": "IQIb4XxStA66"
      },
      "source": [
        "# Differentially Private Machine Learning\n",
        "* ## Demo for differentially private Naive Bayes classifier\n",
        "* ## Task: differentially private K-means"
      ]
    },
    {
      "cell_type": "markdown",
      "metadata": {
        "id": "mJp_Fac2tA7A"
      },
      "source": [
        "### You need to install the IBM Differential Privacy Library \n",
        "The IBM Differential Privacy Library is a general-purpose library for experimenting, investigating and developing applications in differential privacy.\n",
        "\n",
        "* #### Installation with pip\n",
        "\n",
        "The library is designed to run with Python 3. The library can be installed from the PyPi repository using pip (or pip3):\n",
        "\n",
        "pip install diffprivlib\n",
        "\n",
        "\n",
        "\n",
        "* #### Manual installation\n",
        "\n",
        "For the most recent version of the library, either download the source code or clone the repository in your directory of choice:\n",
        "\n",
        "git clone https://github.com/IBM/differential-privacy-library\n",
        "\n",
        "To install diffprivlib, do the following in the project folder (alternatively, you can run python3 -m pip install .):\n",
        "\n",
        "\n",
        "pip install ."
      ]
    },
    {
      "cell_type": "code",
      "metadata": {
        "colab": {
          "base_uri": "https://localhost:8080/"
        },
        "id": "4Yno5r2VtEAP",
        "outputId": "0a7221dd-7c19-4b1a-8f06-5c8941126da6"
      },
      "source": [
        "#!pip install -U -q PyDrive\n",
        "!pip install -U -q diffprivlib"
      ],
      "execution_count": null,
      "outputs": [
        {
          "output_type": "stream",
          "text": [
            "\u001b[?25l\r\u001b[K     |████▎                           | 10kB 17.2MB/s eta 0:00:01\r\u001b[K     |████████▌                       | 20kB 11.0MB/s eta 0:00:01\r\u001b[K     |████████████▉                   | 30kB 8.9MB/s eta 0:00:01\r\u001b[K     |█████████████████               | 40kB 8.1MB/s eta 0:00:01\r\u001b[K     |█████████████████████▎          | 51kB 4.7MB/s eta 0:00:01\r\u001b[K     |█████████████████████████▋      | 61kB 4.9MB/s eta 0:00:01\r\u001b[K     |█████████████████████████████▉  | 71kB 5.2MB/s eta 0:00:01\r\u001b[K     |████████████████████████████████| 81kB 3.3MB/s \n",
            "\u001b[?25h  Building wheel for diffprivlib (setup.py) ... \u001b[?25l\u001b[?25hdone\n"
          ],
          "name": "stdout"
        }
      ]
    },
    {
      "cell_type": "code",
      "metadata": {
        "id": "qSGIlXidtOzw"
      },
      "source": [
        "!pip install -U -q PyDrive\n",
        "from pydrive.auth import GoogleAuth\n",
        "from pydrive.drive import GoogleDrive\n",
        "from google.colab import auth\n",
        "from oauth2client.client import GoogleCredentials\n",
        "# Authenticate and create the PyDrive client.\n",
        "auth.authenticate_user()\n",
        "gauth = GoogleAuth()\n",
        "gauth.credentials = GoogleCredentials.get_application_default()\n",
        "# click on the link, copy and paste the 'authorization code' in the prompt. and press enter button.\n",
        "\n",
        "drive = GoogleDrive(gauth)"
      ],
      "execution_count": null,
      "outputs": []
    },
    {
      "cell_type": "code",
      "metadata": {
        "id": "BAwCun81tR6O"
      },
      "source": [
        "import numpy as np\n",
        "\n",
        "import pandas as pd\n",
        "\n",
        "link = 'https://drive.google.com/file/d/17Z6CsxW6sMAO_US5rtijx9Ec7q9KLERp/view?usp=sharing'\n",
        "\n",
        "#fluff, id = link.split('=')\n",
        "#print (id) # Verify that you have everything after '='\n",
        "\n",
        "id = '17Z6CsxW6sMAO_US5rtijx9Ec7q9KLERp'\n",
        "downloaded = drive.CreateFile({'id':id}) \n",
        "downloaded.GetContentFile('income.csv')  \n",
        "data = pd.read_csv('income.csv')"
      ],
      "execution_count": null,
      "outputs": []
    },
    {
      "cell_type": "code",
      "metadata": {
        "id": "RWjkCRwUtA7B"
      },
      "source": [
        "import math\n",
        "import numpy as np\n",
        "import pandas as pd\n",
        "from matplotlib import pyplot as plt\n",
        "\n",
        "# Import the differential private library\n",
        "import diffprivlib.models as dp\n",
        "\n",
        "from sklearn.model_selection import train_test_split\n",
        "from sklearn.metrics import accuracy_score\n",
        "\n",
        "from sklearn.naive_bayes import GaussianNB"
      ],
      "execution_count": null,
      "outputs": []
    },
    {
      "cell_type": "code",
      "metadata": {
        "id": "ydBSGtEVtA7B",
        "outputId": "15f3de19-f365-4061-9226-83fa8d03af8f"
      },
      "source": [
        "# Load the 'income' dataset. As this data set is related to personal information, we think data analysis directly on the dataset will cause privacy issues.\n",
        "raw_data = pd.read_csv(\"data/income.csv\")\n",
        "print(\"data size: \"+str(raw_data.shape))\n",
        "raw_data.head()"
      ],
      "execution_count": null,
      "outputs": [
        {
          "output_type": "stream",
          "text": [
            "data size: (32561, 6)\n"
          ],
          "name": "stdout"
        },
        {
          "output_type": "execute_result",
          "data": {
            "text/html": [
              "<div>\n",
              "<style scoped>\n",
              "    .dataframe tbody tr th:only-of-type {\n",
              "        vertical-align: middle;\n",
              "    }\n",
              "\n",
              "    .dataframe tbody tr th {\n",
              "        vertical-align: top;\n",
              "    }\n",
              "\n",
              "    .dataframe thead th {\n",
              "        text-align: right;\n",
              "    }\n",
              "</style>\n",
              "<table border=\"1\" class=\"dataframe\">\n",
              "  <thead>\n",
              "    <tr style=\"text-align: right;\">\n",
              "      <th></th>\n",
              "      <th>Age</th>\n",
              "      <th>Education Number</th>\n",
              "      <th>Capital Gain</th>\n",
              "      <th>Capital Loss</th>\n",
              "      <th>Hours per Week</th>\n",
              "      <th>Income</th>\n",
              "    </tr>\n",
              "  </thead>\n",
              "  <tbody>\n",
              "    <tr>\n",
              "      <td>0</td>\n",
              "      <td>39</td>\n",
              "      <td>13</td>\n",
              "      <td>2174</td>\n",
              "      <td>0</td>\n",
              "      <td>40</td>\n",
              "      <td>&lt;=50K</td>\n",
              "    </tr>\n",
              "    <tr>\n",
              "      <td>1</td>\n",
              "      <td>50</td>\n",
              "      <td>13</td>\n",
              "      <td>0</td>\n",
              "      <td>0</td>\n",
              "      <td>13</td>\n",
              "      <td>&lt;=50K</td>\n",
              "    </tr>\n",
              "    <tr>\n",
              "      <td>2</td>\n",
              "      <td>38</td>\n",
              "      <td>9</td>\n",
              "      <td>0</td>\n",
              "      <td>0</td>\n",
              "      <td>40</td>\n",
              "      <td>&lt;=50K</td>\n",
              "    </tr>\n",
              "    <tr>\n",
              "      <td>3</td>\n",
              "      <td>53</td>\n",
              "      <td>7</td>\n",
              "      <td>0</td>\n",
              "      <td>0</td>\n",
              "      <td>40</td>\n",
              "      <td>&lt;=50K</td>\n",
              "    </tr>\n",
              "    <tr>\n",
              "      <td>4</td>\n",
              "      <td>28</td>\n",
              "      <td>13</td>\n",
              "      <td>0</td>\n",
              "      <td>0</td>\n",
              "      <td>40</td>\n",
              "      <td>&lt;=50K</td>\n",
              "    </tr>\n",
              "  </tbody>\n",
              "</table>\n",
              "</div>"
            ],
            "text/plain": [
              "   Age  Education Number  Capital Gain  Capital Loss  Hours per Week Income\n",
              "0   39                13          2174             0              40  <=50K\n",
              "1   50                13             0             0              13  <=50K\n",
              "2   38                 9             0             0              40  <=50K\n",
              "3   53                 7             0             0              40  <=50K\n",
              "4   28                13             0             0              40  <=50K"
            ]
          },
          "metadata": {
            "tags": []
          },
          "execution_count": 2
        }
      ]
    },
    {
      "cell_type": "code",
      "metadata": {
        "id": "AIJYWJ9xtA7C"
      },
      "source": [
        "# Specifying features and target attribute\n",
        "X = raw_data.drop(['Income'], axis='columns').values\n",
        "y = raw_data['Income'].values\n",
        "\n",
        "# Pre-processing with standardization\n",
        "from sklearn import preprocessing\n",
        "scaler = preprocessing.MinMaxScaler()\n",
        "X_scaled = scaler.fit_transform(X)\n",
        "X = X_scaled\n",
        "\n",
        "# Question 1: Given that the preprocessing transform the data, will it proct the privacy? "
      ],
      "execution_count": null,
      "outputs": []
    },
    {
      "cell_type": "code",
      "metadata": {
        "id": "iv5lHEBBuJdJ"
      },
      "source": [
        "X_scaled"
      ],
      "execution_count": null,
      "outputs": []
    },
    {
      "cell_type": "markdown",
      "metadata": {
        "id": "gNZR18KjtA7D"
      },
      "source": [
        "## Naive Bayes with no privacy\n",
        "To begin, let's first train a regular (non-private) naive Bayes classifier, and test its accuracy."
      ]
    },
    {
      "cell_type": "code",
      "metadata": {
        "id": "uLAwDyjqtA7D"
      },
      "source": [
        "# Split data into training and testing datasets\n",
        "X_train, X_test, y_train, y_test = train_test_split(X, y, test_size=0.20)"
      ],
      "execution_count": null,
      "outputs": []
    },
    {
      "cell_type": "code",
      "metadata": {
        "id": "MxNRhL6-tA7E",
        "outputId": "22bb3ab6-e9af-4013-cc18-28aa92b89153"
      },
      "source": [
        "# Train a model\n",
        "nonprivate_clf = GaussianNB()\n",
        "nonprivate_clf.fit(X_train, y_train)\n",
        "\n",
        "print(\"Non-private test accuracy: %.2f%%\" % \n",
        "     (accuracy_score(y_test, nonprivate_clf.predict(X_test)) * 100))\n",
        "\n",
        "# Note: If you built the model and do the testing again, the result will be the same.\n",
        "# The NBC model is based on probability model (probabilistic ML model), but the algorithm is deterministic."
      ],
      "execution_count": null,
      "outputs": [
        {
          "output_type": "stream",
          "text": [
            "Non-private test accuracy: 79.70%\n"
          ],
          "name": "stdout"
        }
      ]
    },
    {
      "cell_type": "markdown",
      "metadata": {
        "id": "zN3pzfjxtA7E"
      },
      "source": [
        "## Differentially private naive Bayes classification\n",
        "Using the models.GaussianNB module of diffprivlib, we can train a naive Bayes classifier while satisfying differential privacy.\n",
        "If we don't specify any parameters, the model defaults to epsilon = 1 and selects the model's feature bounds from the data. This throws a warning with .fit() is first called, as it leaks additional privacy. To ensure no additional privacy loss, we should specify the bounds as an argument, and choose the bounds indepedently of the data (i.e. using domain knowledge).\n",
        "\n",
        "Questions: what kind of basic statistic compuing operations are used in Guassian NBC? What are the sensitivities of the operations?"
      ]
    },
    {
      "cell_type": "code",
      "metadata": {
        "id": "pJW8GvyWtA7E",
        "outputId": "53c70641-8a7e-40d6-d21d-c6b32850a58a"
      },
      "source": [
        "# Train a differentially private version of NBC\n",
        "stardardized_bounds = [(0, 1), (0, 1), (0, 1), (0, 1), (0, 1)]\n",
        "\n",
        "dp_clf = dp.GaussianNB(epsilon = 1, bounds=stardardized_bounds)\n",
        "\n",
        "dp_clf.fit(X_train, y_train)\n",
        "\n",
        "print(\"Differentially private test accuracy (epsilon=%.2f): %.2f%%\" % \n",
        "      (dp_clf.epsilon, accuracy_score(y_test, dp_clf.predict(X_test)) * 100))\n",
        "\n",
        "# Note: If you built the model and do the testing again, the result will be different. As we pointed in our lecture, the algorithm has been randomized."
      ],
      "execution_count": null,
      "outputs": [
        {
          "output_type": "stream",
          "text": [
            "Differentially private test accuracy (epsilon=1.00): 78.69%\n"
          ],
          "name": "stdout"
        }
      ]
    },
    {
      "cell_type": "code",
      "metadata": {
        "id": "sovIt2BmtA7F",
        "outputId": "021944af-bf55-4709-8ea9-69a6e6082f32"
      },
      "source": [
        "# Try a different epsilon value epsilon=0.1 (stronger privayc preservation)\n",
        "dp_clf = dp.GaussianNB(epsilon = 0.1, bounds=stardardized_bounds)\n",
        "\n",
        "dp_clf.fit(X_train, y_train)\n",
        "\n",
        "print(\"Differentially private test accuracy (epsilon=%.2f): %.2f%%\" % \n",
        "      (dp_clf.epsilon, accuracy_score(y_test, dp_clf.predict(X_test)) * 100))"
      ],
      "execution_count": null,
      "outputs": [
        {
          "output_type": "stream",
          "text": [
            "Differentially private test accuracy (epsilon=0.10): 76.69%\n"
          ],
          "name": "stdout"
        }
      ]
    },
    {
      "cell_type": "code",
      "metadata": {
        "id": "Ddd8-zHQtA7F",
        "outputId": "622b8b06-9979-4b68-c928-ec2ee1fbc209"
      },
      "source": [
        "# Try the extreme values like 0.0000001 (very strong privacy preservation), and inf (no privacy preservation)\n",
        "dp_clf = dp.GaussianNB(epsilon = 0.0000001, bounds=stardardized_bounds)\n",
        "#dp_clf = dp.GaussianNB(epsilon=float(\"inf\"), bounds=stardardized_bounds)\n",
        "\n",
        "dp_clf.fit(X_train, y_train)\n",
        "\n",
        "print(\"Differentially private test accuracy (epsilon=%.2f): %.2f%%\" % \n",
        "      (dp_clf.epsilon, accuracy_score(y_test, dp_clf.predict(X_test)) * 100))"
      ],
      "execution_count": null,
      "outputs": [
        {
          "output_type": "stream",
          "text": [
            "Differentially private test accuracy (epsilon=0.00): 24.11%\n"
          ],
          "name": "stdout"
        }
      ]
    },
    {
      "cell_type": "markdown",
      "metadata": {
        "id": "te4lC8xBtA7G"
      },
      "source": [
        "## Investigate how epsilon affects prediction performance\n",
        "We will visualize the relationship between epsilon and accuracy."
      ]
    },
    {
      "cell_type": "code",
      "metadata": {
        "id": "fncLZLywtA7G",
        "outputId": "b11f8dc7-5bd9-4f3b-d810-a9137798f38a"
      },
      "source": [
        "# For evaluation randomized algorithms, we need to run multiple execution, using the standard deviation to perceive the robustness of the prediction\n",
        "accuracy_scores = []\n",
        "accuracy_scores_std = []\n",
        "\n",
        "epsilons = np.logspace(-4, 1, 20)\n",
        "\n",
        "for epsilon in epsilons:\n",
        "    # Multiple runs for stable indicators for randomized algorithms\n",
        "    accuracy_scores_tmp = []\n",
        "    \n",
        "    n_iteration=10\n",
        "    for j in range(0, n_iteration):\n",
        "        dp_clf = dp.GaussianNB(epsilon=epsilon, bounds=stardardized_bounds)\n",
        "        dp_clf.fit(X_train, y_train)\n",
        "        accuracy_scores_tmp.append(accuracy_score(y_test, dp_clf.predict(X_test)))\n",
        "    \n",
        "    accuracy_scores.append(np.mean(accuracy_scores_tmp))\n",
        "    accuracy_scores_std.append(np.std(accuracy_scores_tmp))\n",
        "\n",
        "# Plot the relationship between the classification accuracy and the privacy budget epsilon\n",
        "plt.errorbar(epsilons, accuracy_scores, yerr=accuracy_scores_std, marker='o')\n",
        "plt.xscale('log')\n",
        "plt.title('Differentially private Naive Bayes accuracy')\n",
        "plt.xlabel('Epsilon')\n",
        "plt.ylabel('Accuracy')\n",
        "plt.show()"
      ],
      "execution_count": null,
      "outputs": [
        {
          "output_type": "display_data",
          "data": {
            "image/png": "[encoded data removed]",
            "text/plain": [
              "<Figure size 432x288 with 1 Axes>"
            ]
          },
          "metadata": {
            "tags": [],
            "needs_background": "light"
          }
        }
      ]
    },
    {
      "cell_type": "markdown",
      "metadata": {
        "id": "R3oVnXmHtA7H"
      },
      "source": [
        "## Task: differentially private K-means\n",
        "You can refer to the configuration/implementation details for differentially private K-menas: https://github.com/IBM/differential-privacy-library/blob/master/diffprivlib/models/k_means.py"
      ]
    },
    {
      "cell_type": "code",
      "metadata": {
        "id": "mn8DGQM8tA7H"
      },
      "source": [
        "# Task 6.1 Study how eplison affects the clustering performance via visualizing the relationship between epsilon and the cluster performance indicators we used in Prac-5.\n",
        "# You could fix value of K, e.g., 5, or 10\n",
        "\n",
        "## Epsilon measures the privacy loss at a differential change in the data. It is also know as the privacy parameter or privacy budget. \n",
        "\n",
        "\n",
        "# Optional: visualize the orginal datasets (randomly/mannual/PCA selected two dimensions for visualization, showing how epsilon affects the clustering results)\n"
      ],
      "execution_count": null,
      "outputs": []
    },
    {
      "cell_type": "markdown",
      "source": [
        "<font color='Blue'>Larger Epsilon value will produce broader clusters(having more data points), smaller epsilon will produce a  smaller cluster .</font>\n",
        "\n",
        "\n"
      ],
      "metadata": {
        "id": "6YLZHeyyUcF2"
      }
    },
    {
      "cell_type": "markdown",
      "source": [
        "### <font color='orange'>\n",
        "Epsilon has an inverse relationship with privacy or noise. The lower the epsilon value, more noisy and more private the data is. \n",
        " </font>\n"
      ],
      "metadata": {
        "id": "lGxfV5jzZR_7"
      }
    },
    {
      "cell_type": "markdown",
      "source": [
        "# <font color='purple'>\n",
        " Epsilon measures how private a report is. Epsilon is always a non-negative value.\n",
        " </font>\n",
        "\n",
        "\n",
        "\n"
      ],
      "metadata": {
        "id": "vMF9F8JFbz21"
      }
    }
  ]
}