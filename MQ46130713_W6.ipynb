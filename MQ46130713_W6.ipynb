{
  "cells": [
    {
      "cell_type": "markdown",
      "metadata": {
        "id": "kHOEQwn0tUQQ"
      },
      "source": [
        "# Workshop Week 6  - Private Machine Learning - with solutions\n",
        "* ## Demos for differentially private linear regression and K-means clustering\n",
        "* ## Tasks: differentially private linear regression and K-means"
      ]
    },
    {
      "cell_type": "markdown",
      "metadata": {
        "id": "GlK3F0jAt8P4"
      },
      "source": [
        "#### Since the tasks require a Python library diffprivlib and the package depency might cause some version issues. This workshop demos and task should be done with Colab notebooks which is very similar to Jupyter notebooks we were using. Following are basic steps:\n",
        "* Click[https://colab.research.google.com](https://colab.research.google.com) to access Colab notebooks.\n",
        "* Upload this file into Colab\n",
        "* The rest would be very similar to what you experienced in Jupyter Notebooks.\n",
        "\n"
      ]
    },
    {
      "cell_type": "markdown",
      "metadata": {
        "id": "BEB0aHApwJEP"
      },
      "source": [
        "### You need to install the IBM Differential Privacy Library \n",
        "The IBM Differential Privacy Library is a general-purpose library for experimenting, investigating and developing applications in differential privacy.\n",
        "\n",
        "* #### Installation with pip\n",
        "\n",
        "The library is designed to run with Python 3. The library can be installed from the PyPi repository using pip (or pip3):\n",
        "\n",
        "**pip install diffprivlib**\n",
        "\n",
        "\n",
        "\n",
        "* #### Manual installation\n",
        "Refer to [https://github.com/IBM/differential-privacy-library](https://github.com/IBM/differential-privacy-library) for more details."
      ]
    },
    {
      "cell_type": "code",
      "execution_count": 1,
      "metadata": {
        "colab": {
          "base_uri": "https://localhost:8080/"
        },
        "id": "ME0p02oJXn6g",
        "outputId": "efcf9c32-4add-49f7-dcfd-666d0526c2c3"
      },
      "outputs": [
        {
          "output_type": "stream",
          "name": "stdout",
          "text": [
            "Collecting diffprivlib\n",
            "  Downloading diffprivlib-0.5.1.tar.gz (87 kB)\n",
            "\u001b[?25l\r\u001b[K     |███▊                            | 10 kB 15.4 MB/s eta 0:00:01\r\u001b[K     |███████▌                        | 20 kB 19.0 MB/s eta 0:00:01\r\u001b[K     |███████████▎                    | 30 kB 12.0 MB/s eta 0:00:01\r\u001b[K     |███████████████                 | 40 kB 5.0 MB/s eta 0:00:01\r\u001b[K     |██████████████████▊             | 51 kB 4.8 MB/s eta 0:00:01\r\u001b[K     |██████████████████████▌         | 61 kB 5.7 MB/s eta 0:00:01\r\u001b[K     |██████████████████████████▎     | 71 kB 6.0 MB/s eta 0:00:01\r\u001b[K     |██████████████████████████████  | 81 kB 6.4 MB/s eta 0:00:01\r\u001b[K     |████████████████████████████████| 87 kB 3.2 MB/s \n",
            "\u001b[?25hRequirement already satisfied: numpy>=1.19.0 in /usr/local/lib/python3.7/dist-packages (from diffprivlib) (1.21.5)\n",
            "Requirement already satisfied: setuptools>=49.0.0 in /usr/local/lib/python3.7/dist-packages (from diffprivlib) (57.4.0)\n",
            "Requirement already satisfied: scikit-learn>=0.23.0 in /usr/local/lib/python3.7/dist-packages (from diffprivlib) (1.0.2)\n",
            "Collecting scipy>=1.5.0\n",
            "  Downloading scipy-1.7.3-cp37-cp37m-manylinux_2_12_x86_64.manylinux2010_x86_64.whl (38.1 MB)\n",
            "\u001b[K     |████████████████████████████████| 38.1 MB 1.1 MB/s \n",
            "\u001b[?25hRequirement already satisfied: joblib>=0.16.0 in /usr/local/lib/python3.7/dist-packages (from diffprivlib) (1.1.0)\n",
            "Requirement already satisfied: threadpoolctl>=2.0.0 in /usr/local/lib/python3.7/dist-packages (from scikit-learn>=0.23.0->diffprivlib) (3.1.0)\n",
            "Building wheels for collected packages: diffprivlib\n",
            "  Building wheel for diffprivlib (setup.py) ... \u001b[?25l\u001b[?25hdone\n",
            "  Created wheel for diffprivlib: filename=diffprivlib-0.5.1-py3-none-any.whl size=162306 sha256=3c1849651060ec4a2e3e19bee26fb01edcd870cf7b4bd2f1093ab07131683ac5\n",
            "  Stored in directory: /root/.cache/pip/wheels/88/fb/35/44ce5d133fbdc88e5cbad820d700b62a4a7bb7c160408d0493\n",
            "Successfully built diffprivlib\n",
            "Installing collected packages: scipy, diffprivlib\n",
            "  Attempting uninstall: scipy\n",
            "    Found existing installation: scipy 1.4.1\n",
            "    Uninstalling scipy-1.4.1:\n",
            "      Successfully uninstalled scipy-1.4.1\n",
            "\u001b[31mERROR: pip's dependency resolver does not currently take into account all the packages that are installed. This behaviour is the source of the following dependency conflicts.\n",
            "albumentations 0.1.12 requires imgaug<0.2.7,>=0.2.5, but you have imgaug 0.2.9 which is incompatible.\u001b[0m\n",
            "Successfully installed diffprivlib-0.5.1 scipy-1.7.3\n"
          ]
        }
      ],
      "source": [
        "pip install diffprivlib\n"
      ]
    },
    {
      "cell_type": "code",
      "execution_count": 3,
      "metadata": {
        "id": "yt2b5yYSeVwm"
      },
      "outputs": [],
      "source": [
        "# Just ignore the warnings \n",
        "import warnings\n",
        "warnings.filterwarnings(\"ignore\")\n",
        "\n",
        "# Import the necessary libraries\n",
        "import math\n",
        "import numpy as np\n",
        "import pandas as pd\n",
        "from matplotlib import pyplot as plt"
      ]
    },
    {
      "cell_type": "markdown",
      "metadata": {
        "id": "Kd-F7abdxMsF"
      },
      "source": [
        "### **Demo 1**. For private K-means"
      ]
    },
    {
      "cell_type": "code",
      "execution_count": 4,
      "metadata": {
        "id": "HByW014lX-Gq"
      },
      "outputs": [],
      "source": [
        "# Import a build-in dataset \"Iris\" in sklearn\n",
        "# See https://archive.ics.uci.edu/ml/datasets/iris for more information about the dataset\n",
        "from sklearn import datasets\n",
        "dataset = datasets.load_iris()\n",
        "\n",
        "# Set the features and the target\n",
        "X=dataset.data\n",
        "y=dataset.target"
      ]
    },
    {
      "cell_type": "markdown",
      "metadata": {
        "id": "vt8WR6l_y2j2"
      },
      "source": [
        "### We import the KMeans model from the diffprivlib module. The API document can be found at: [https://pypi.org/project/diffprivlib/](https://pypi.org/project/diffprivlib/)\n",
        "The APIs are quite similar to the versions in sklearn, but they provide you the capability of specifying the privacy budget.\n"
      ]
    },
    {
      "cell_type": "code",
      "execution_count": 5,
      "metadata": {
        "colab": {
          "base_uri": "https://localhost:8080/"
        },
        "id": "tTD5Z1-EgB9_",
        "outputId": "c4b5a5b8-16ea-4f17-8e98-17266a1f0954"
      },
      "outputs": [
        {
          "output_type": "stream",
          "name": "stdout",
          "text": [
            "DB score:  0.881626284417593\n",
            "AR score:  0.5285193855227317\n",
            "Average inertia:  1.8586568765242522\n"
          ]
        },
        {
          "output_type": "stream",
          "name": "stderr",
          "text": [
            "/usr/local/lib/python3.7/dist-packages/diffprivlib/models/k_means.py:130: PrivacyLeakWarning: Bounds have not been specified and will be calculated on the data provided.  This will result in additional privacy leakage. To ensure differential privacy and no additional privacy leakage, specify `bounds` for each dimension.\n",
            "  \"privacy leakage, specify `bounds` for each dimension.\", PrivacyLeakWarning)\n"
          ]
        }
      ],
      "source": [
        "\n",
        "# Import the differential version of KMeans\n",
        "\n",
        "from diffprivlib.models import KMeans\n",
        "from sklearn.metrics import davies_bouldin_score, adjusted_rand_score\n",
        "from sklearn.metrics import accuracy_score\n",
        "\n",
        "# Create a KMeans model with specifying the privacy budget (epsilon).\n",
        "kmeans = KMeans(epsilon = 1.0, n_clusters=5)\n",
        "kmeans.fit(X)\n",
        "labels = kmeans.labels_\n",
        "\n",
        "print(\"DB score: \", davies_bouldin_score(X, labels))\n",
        "print(\"AR score: \", adjusted_rand_score(labels, y))\n",
        "print(\"Average inertia: \", math.sqrt(kmeans.inertia_/X.shape[0]))\n"
      ]
    },
    {
      "cell_type": "markdown",
      "metadata": {
        "id": "YFtZfX2_0rZt"
      },
      "source": [
        "### **Task 1**. Study how eplison affects the clustering performance via visualizing the relationship between epsilon and the cluster performance indicators we used in Workshop Week 4.\n",
        "\n",
        "You could fix value of K for the number of clusters, e.g., 5, or 10. To facilitate your task, the epsilon range and values are given in the following code. But you are free to change them to explore other values with appropriate justification.\n",
        "\n",
        "Note that when epsilon is big enough, the model could be equivalent to the original version without noise addition. So, you can have a comparison between an original model and the differential private version."
      ]
    },
    {
      "cell_type": "code",
      "execution_count": 17,
      "metadata": {
        "colab": {
          "base_uri": "https://localhost:8080/",
          "height": 1000
        },
        "id": "yxn95J8ddbAE",
        "outputId": "04f82223-3721-4948-f25f-e543a42db97a"
      },
      "outputs": [
        {
          "output_type": "stream",
          "name": "stdout",
          "text": [
            "\n",
            "privacy budgets (epsilons): \n",
            " [1.00000000e-04 1.83298071e-04 3.35981829e-04 6.15848211e-04\n",
            " 1.12883789e-03 2.06913808e-03 3.79269019e-03 6.95192796e-03\n",
            " 1.27427499e-02 2.33572147e-02 4.28133240e-02 7.84759970e-02\n",
            " 1.43844989e-01 2.63665090e-01 4.83293024e-01 8.85866790e-01\n",
            " 1.62377674e+00 2.97635144e+00 5.45559478e+00 1.00000000e+01]\n"
          ]
        },
        {
          "output_type": "stream",
          "name": "stderr",
          "text": [
            "/usr/local/lib/python3.7/dist-packages/diffprivlib/models/k_means.py:130: PrivacyLeakWarning: Bounds have not been specified and will be calculated on the data provided.  This will result in additional privacy leakage. To ensure differential privacy and no additional privacy leakage, specify `bounds` for each dimension.\n",
            "  \"privacy leakage, specify `bounds` for each dimension.\", PrivacyLeakWarning)\n",
            "/usr/local/lib/python3.7/dist-packages/diffprivlib/models/k_means.py:130: PrivacyLeakWarning: Bounds have not been specified and will be calculated on the data provided.  This will result in additional privacy leakage. To ensure differential privacy and no additional privacy leakage, specify `bounds` for each dimension.\n",
            "  \"privacy leakage, specify `bounds` for each dimension.\", PrivacyLeakWarning)\n",
            "/usr/local/lib/python3.7/dist-packages/diffprivlib/models/k_means.py:130: PrivacyLeakWarning: Bounds have not been specified and will be calculated on the data provided.  This will result in additional privacy leakage. To ensure differential privacy and no additional privacy leakage, specify `bounds` for each dimension.\n",
            "  \"privacy leakage, specify `bounds` for each dimension.\", PrivacyLeakWarning)\n",
            "/usr/local/lib/python3.7/dist-packages/diffprivlib/models/k_means.py:130: PrivacyLeakWarning: Bounds have not been specified and will be calculated on the data provided.  This will result in additional privacy leakage. To ensure differential privacy and no additional privacy leakage, specify `bounds` for each dimension.\n",
            "  \"privacy leakage, specify `bounds` for each dimension.\", PrivacyLeakWarning)\n",
            "/usr/local/lib/python3.7/dist-packages/diffprivlib/models/k_means.py:130: PrivacyLeakWarning: Bounds have not been specified and will be calculated on the data provided.  This will result in additional privacy leakage. To ensure differential privacy and no additional privacy leakage, specify `bounds` for each dimension.\n",
            "  \"privacy leakage, specify `bounds` for each dimension.\", PrivacyLeakWarning)\n",
            "/usr/local/lib/python3.7/dist-packages/diffprivlib/models/k_means.py:130: PrivacyLeakWarning: Bounds have not been specified and will be calculated on the data provided.  This will result in additional privacy leakage. To ensure differential privacy and no additional privacy leakage, specify `bounds` for each dimension.\n",
            "  \"privacy leakage, specify `bounds` for each dimension.\", PrivacyLeakWarning)\n",
            "/usr/local/lib/python3.7/dist-packages/diffprivlib/models/k_means.py:130: PrivacyLeakWarning: Bounds have not been specified and will be calculated on the data provided.  This will result in additional privacy leakage. To ensure differential privacy and no additional privacy leakage, specify `bounds` for each dimension.\n",
            "  \"privacy leakage, specify `bounds` for each dimension.\", PrivacyLeakWarning)\n",
            "/usr/local/lib/python3.7/dist-packages/diffprivlib/models/k_means.py:130: PrivacyLeakWarning: Bounds have not been specified and will be calculated on the data provided.  This will result in additional privacy leakage. To ensure differential privacy and no additional privacy leakage, specify `bounds` for each dimension.\n",
            "  \"privacy leakage, specify `bounds` for each dimension.\", PrivacyLeakWarning)\n",
            "/usr/local/lib/python3.7/dist-packages/diffprivlib/models/k_means.py:130: PrivacyLeakWarning: Bounds have not been specified and will be calculated on the data provided.  This will result in additional privacy leakage. To ensure differential privacy and no additional privacy leakage, specify `bounds` for each dimension.\n",
            "  \"privacy leakage, specify `bounds` for each dimension.\", PrivacyLeakWarning)\n",
            "/usr/local/lib/python3.7/dist-packages/diffprivlib/models/k_means.py:130: PrivacyLeakWarning: Bounds have not been specified and will be calculated on the data provided.  This will result in additional privacy leakage. To ensure differential privacy and no additional privacy leakage, specify `bounds` for each dimension.\n",
            "  \"privacy leakage, specify `bounds` for each dimension.\", PrivacyLeakWarning)\n",
            "/usr/local/lib/python3.7/dist-packages/diffprivlib/models/k_means.py:130: PrivacyLeakWarning: Bounds have not been specified and will be calculated on the data provided.  This will result in additional privacy leakage. To ensure differential privacy and no additional privacy leakage, specify `bounds` for each dimension.\n",
            "  \"privacy leakage, specify `bounds` for each dimension.\", PrivacyLeakWarning)\n",
            "/usr/local/lib/python3.7/dist-packages/diffprivlib/models/k_means.py:130: PrivacyLeakWarning: Bounds have not been specified and will be calculated on the data provided.  This will result in additional privacy leakage. To ensure differential privacy and no additional privacy leakage, specify `bounds` for each dimension.\n",
            "  \"privacy leakage, specify `bounds` for each dimension.\", PrivacyLeakWarning)\n",
            "/usr/local/lib/python3.7/dist-packages/diffprivlib/models/k_means.py:130: PrivacyLeakWarning: Bounds have not been specified and will be calculated on the data provided.  This will result in additional privacy leakage. To ensure differential privacy and no additional privacy leakage, specify `bounds` for each dimension.\n",
            "  \"privacy leakage, specify `bounds` for each dimension.\", PrivacyLeakWarning)\n",
            "/usr/local/lib/python3.7/dist-packages/diffprivlib/models/k_means.py:130: PrivacyLeakWarning: Bounds have not been specified and will be calculated on the data provided.  This will result in additional privacy leakage. To ensure differential privacy and no additional privacy leakage, specify `bounds` for each dimension.\n",
            "  \"privacy leakage, specify `bounds` for each dimension.\", PrivacyLeakWarning)\n",
            "/usr/local/lib/python3.7/dist-packages/diffprivlib/models/k_means.py:130: PrivacyLeakWarning: Bounds have not been specified and will be calculated on the data provided.  This will result in additional privacy leakage. To ensure differential privacy and no additional privacy leakage, specify `bounds` for each dimension.\n",
            "  \"privacy leakage, specify `bounds` for each dimension.\", PrivacyLeakWarning)\n",
            "/usr/local/lib/python3.7/dist-packages/diffprivlib/models/k_means.py:130: PrivacyLeakWarning: Bounds have not been specified and will be calculated on the data provided.  This will result in additional privacy leakage. To ensure differential privacy and no additional privacy leakage, specify `bounds` for each dimension.\n",
            "  \"privacy leakage, specify `bounds` for each dimension.\", PrivacyLeakWarning)\n",
            "/usr/local/lib/python3.7/dist-packages/diffprivlib/models/k_means.py:130: PrivacyLeakWarning: Bounds have not been specified and will be calculated on the data provided.  This will result in additional privacy leakage. To ensure differential privacy and no additional privacy leakage, specify `bounds` for each dimension.\n",
            "  \"privacy leakage, specify `bounds` for each dimension.\", PrivacyLeakWarning)\n",
            "/usr/local/lib/python3.7/dist-packages/diffprivlib/models/k_means.py:130: PrivacyLeakWarning: Bounds have not been specified and will be calculated on the data provided.  This will result in additional privacy leakage. To ensure differential privacy and no additional privacy leakage, specify `bounds` for each dimension.\n",
            "  \"privacy leakage, specify `bounds` for each dimension.\", PrivacyLeakWarning)\n",
            "/usr/local/lib/python3.7/dist-packages/diffprivlib/models/k_means.py:130: PrivacyLeakWarning: Bounds have not been specified and will be calculated on the data provided.  This will result in additional privacy leakage. To ensure differential privacy and no additional privacy leakage, specify `bounds` for each dimension.\n",
            "  \"privacy leakage, specify `bounds` for each dimension.\", PrivacyLeakWarning)\n",
            "/usr/local/lib/python3.7/dist-packages/diffprivlib/models/k_means.py:130: PrivacyLeakWarning: Bounds have not been specified and will be calculated on the data provided.  This will result in additional privacy leakage. To ensure differential privacy and no additional privacy leakage, specify `bounds` for each dimension.\n",
            "  \"privacy leakage, specify `bounds` for each dimension.\", PrivacyLeakWarning)\n",
            "/usr/local/lib/python3.7/dist-packages/diffprivlib/models/k_means.py:130: PrivacyLeakWarning: Bounds have not been specified and will be calculated on the data provided.  This will result in additional privacy leakage. To ensure differential privacy and no additional privacy leakage, specify `bounds` for each dimension.\n",
            "  \"privacy leakage, specify `bounds` for each dimension.\", PrivacyLeakWarning)\n",
            "/usr/local/lib/python3.7/dist-packages/diffprivlib/models/k_means.py:130: PrivacyLeakWarning: Bounds have not been specified and will be calculated on the data provided.  This will result in additional privacy leakage. To ensure differential privacy and no additional privacy leakage, specify `bounds` for each dimension.\n",
            "  \"privacy leakage, specify `bounds` for each dimension.\", PrivacyLeakWarning)\n",
            "/usr/local/lib/python3.7/dist-packages/diffprivlib/models/k_means.py:130: PrivacyLeakWarning: Bounds have not been specified and will be calculated on the data provided.  This will result in additional privacy leakage. To ensure differential privacy and no additional privacy leakage, specify `bounds` for each dimension.\n",
            "  \"privacy leakage, specify `bounds` for each dimension.\", PrivacyLeakWarning)\n",
            "/usr/local/lib/python3.7/dist-packages/diffprivlib/models/k_means.py:130: PrivacyLeakWarning: Bounds have not been specified and will be calculated on the data provided.  This will result in additional privacy leakage. To ensure differential privacy and no additional privacy leakage, specify `bounds` for each dimension.\n",
            "  \"privacy leakage, specify `bounds` for each dimension.\", PrivacyLeakWarning)\n",
            "/usr/local/lib/python3.7/dist-packages/diffprivlib/models/k_means.py:130: PrivacyLeakWarning: Bounds have not been specified and will be calculated on the data provided.  This will result in additional privacy leakage. To ensure differential privacy and no additional privacy leakage, specify `bounds` for each dimension.\n",
            "  \"privacy leakage, specify `bounds` for each dimension.\", PrivacyLeakWarning)\n",
            "/usr/local/lib/python3.7/dist-packages/diffprivlib/models/k_means.py:130: PrivacyLeakWarning: Bounds have not been specified and will be calculated on the data provided.  This will result in additional privacy leakage. To ensure differential privacy and no additional privacy leakage, specify `bounds` for each dimension.\n",
            "  \"privacy leakage, specify `bounds` for each dimension.\", PrivacyLeakWarning)\n",
            "/usr/local/lib/python3.7/dist-packages/diffprivlib/models/k_means.py:130: PrivacyLeakWarning: Bounds have not been specified and will be calculated on the data provided.  This will result in additional privacy leakage. To ensure differential privacy and no additional privacy leakage, specify `bounds` for each dimension.\n",
            "  \"privacy leakage, specify `bounds` for each dimension.\", PrivacyLeakWarning)\n",
            "/usr/local/lib/python3.7/dist-packages/diffprivlib/models/k_means.py:130: PrivacyLeakWarning: Bounds have not been specified and will be calculated on the data provided.  This will result in additional privacy leakage. To ensure differential privacy and no additional privacy leakage, specify `bounds` for each dimension.\n",
            "  \"privacy leakage, specify `bounds` for each dimension.\", PrivacyLeakWarning)\n",
            "/usr/local/lib/python3.7/dist-packages/diffprivlib/models/k_means.py:130: PrivacyLeakWarning: Bounds have not been specified and will be calculated on the data provided.  This will result in additional privacy leakage. To ensure differential privacy and no additional privacy leakage, specify `bounds` for each dimension.\n",
            "  \"privacy leakage, specify `bounds` for each dimension.\", PrivacyLeakWarning)\n",
            "/usr/local/lib/python3.7/dist-packages/diffprivlib/models/k_means.py:130: PrivacyLeakWarning: Bounds have not been specified and will be calculated on the data provided.  This will result in additional privacy leakage. To ensure differential privacy and no additional privacy leakage, specify `bounds` for each dimension.\n",
            "  \"privacy leakage, specify `bounds` for each dimension.\", PrivacyLeakWarning)\n",
            "/usr/local/lib/python3.7/dist-packages/diffprivlib/models/k_means.py:130: PrivacyLeakWarning: Bounds have not been specified and will be calculated on the data provided.  This will result in additional privacy leakage. To ensure differential privacy and no additional privacy leakage, specify `bounds` for each dimension.\n",
            "  \"privacy leakage, specify `bounds` for each dimension.\", PrivacyLeakWarning)\n",
            "/usr/local/lib/python3.7/dist-packages/diffprivlib/models/k_means.py:130: PrivacyLeakWarning: Bounds have not been specified and will be calculated on the data provided.  This will result in additional privacy leakage. To ensure differential privacy and no additional privacy leakage, specify `bounds` for each dimension.\n",
            "  \"privacy leakage, specify `bounds` for each dimension.\", PrivacyLeakWarning)\n",
            "/usr/local/lib/python3.7/dist-packages/diffprivlib/models/k_means.py:130: PrivacyLeakWarning: Bounds have not been specified and will be calculated on the data provided.  This will result in additional privacy leakage. To ensure differential privacy and no additional privacy leakage, specify `bounds` for each dimension.\n",
            "  \"privacy leakage, specify `bounds` for each dimension.\", PrivacyLeakWarning)\n",
            "/usr/local/lib/python3.7/dist-packages/diffprivlib/models/k_means.py:130: PrivacyLeakWarning: Bounds have not been specified and will be calculated on the data provided.  This will result in additional privacy leakage. To ensure differential privacy and no additional privacy leakage, specify `bounds` for each dimension.\n",
            "  \"privacy leakage, specify `bounds` for each dimension.\", PrivacyLeakWarning)\n",
            "/usr/local/lib/python3.7/dist-packages/diffprivlib/models/k_means.py:130: PrivacyLeakWarning: Bounds have not been specified and will be calculated on the data provided.  This will result in additional privacy leakage. To ensure differential privacy and no additional privacy leakage, specify `bounds` for each dimension.\n",
            "  \"privacy leakage, specify `bounds` for each dimension.\", PrivacyLeakWarning)\n",
            "/usr/local/lib/python3.7/dist-packages/diffprivlib/models/k_means.py:130: PrivacyLeakWarning: Bounds have not been specified and will be calculated on the data provided.  This will result in additional privacy leakage. To ensure differential privacy and no additional privacy leakage, specify `bounds` for each dimension.\n",
            "  \"privacy leakage, specify `bounds` for each dimension.\", PrivacyLeakWarning)\n",
            "/usr/local/lib/python3.7/dist-packages/diffprivlib/models/k_means.py:130: PrivacyLeakWarning: Bounds have not been specified and will be calculated on the data provided.  This will result in additional privacy leakage. To ensure differential privacy and no additional privacy leakage, specify `bounds` for each dimension.\n",
            "  \"privacy leakage, specify `bounds` for each dimension.\", PrivacyLeakWarning)\n",
            "/usr/local/lib/python3.7/dist-packages/diffprivlib/models/k_means.py:130: PrivacyLeakWarning: Bounds have not been specified and will be calculated on the data provided.  This will result in additional privacy leakage. To ensure differential privacy and no additional privacy leakage, specify `bounds` for each dimension.\n",
            "  \"privacy leakage, specify `bounds` for each dimension.\", PrivacyLeakWarning)\n",
            "/usr/local/lib/python3.7/dist-packages/diffprivlib/models/k_means.py:130: PrivacyLeakWarning: Bounds have not been specified and will be calculated on the data provided.  This will result in additional privacy leakage. To ensure differential privacy and no additional privacy leakage, specify `bounds` for each dimension.\n",
            "  \"privacy leakage, specify `bounds` for each dimension.\", PrivacyLeakWarning)\n",
            "/usr/local/lib/python3.7/dist-packages/diffprivlib/models/k_means.py:130: PrivacyLeakWarning: Bounds have not been specified and will be calculated on the data provided.  This will result in additional privacy leakage. To ensure differential privacy and no additional privacy leakage, specify `bounds` for each dimension.\n",
            "  \"privacy leakage, specify `bounds` for each dimension.\", PrivacyLeakWarning)\n",
            "/usr/local/lib/python3.7/dist-packages/diffprivlib/models/k_means.py:130: PrivacyLeakWarning: Bounds have not been specified and will be calculated on the data provided.  This will result in additional privacy leakage. To ensure differential privacy and no additional privacy leakage, specify `bounds` for each dimension.\n",
            "  \"privacy leakage, specify `bounds` for each dimension.\", PrivacyLeakWarning)\n",
            "/usr/local/lib/python3.7/dist-packages/diffprivlib/models/k_means.py:130: PrivacyLeakWarning: Bounds have not been specified and will be calculated on the data provided.  This will result in additional privacy leakage. To ensure differential privacy and no additional privacy leakage, specify `bounds` for each dimension.\n",
            "  \"privacy leakage, specify `bounds` for each dimension.\", PrivacyLeakWarning)\n",
            "/usr/local/lib/python3.7/dist-packages/diffprivlib/models/k_means.py:130: PrivacyLeakWarning: Bounds have not been specified and will be calculated on the data provided.  This will result in additional privacy leakage. To ensure differential privacy and no additional privacy leakage, specify `bounds` for each dimension.\n",
            "  \"privacy leakage, specify `bounds` for each dimension.\", PrivacyLeakWarning)\n",
            "/usr/local/lib/python3.7/dist-packages/diffprivlib/models/k_means.py:130: PrivacyLeakWarning: Bounds have not been specified and will be calculated on the data provided.  This will result in additional privacy leakage. To ensure differential privacy and no additional privacy leakage, specify `bounds` for each dimension.\n",
            "  \"privacy leakage, specify `bounds` for each dimension.\", PrivacyLeakWarning)\n",
            "/usr/local/lib/python3.7/dist-packages/diffprivlib/models/k_means.py:130: PrivacyLeakWarning: Bounds have not been specified and will be calculated on the data provided.  This will result in additional privacy leakage. To ensure differential privacy and no additional privacy leakage, specify `bounds` for each dimension.\n",
            "  \"privacy leakage, specify `bounds` for each dimension.\", PrivacyLeakWarning)\n"
          ]
        },
        {
          "output_type": "display_data",
          "data": {
            "text/plain": [
              "<Figure size 432x288 with 1 Axes>"
            ],
            "image/png": "[encoded data removed]"
          },
          "metadata": {
            "needs_background": "light"
          }
        }
      ],
      "source": [
        "\n",
        "# We need to calculate the performance indicators for measuring the cluster quality.\n",
        "db_scores = []\n",
        "db_scores_std = []\n",
        "\n",
        "ar_scores=[]\n",
        "ar_scores_std=[]\n",
        "\n",
        "inertia = []\n",
        "inertia_std = []\n",
        "\n",
        "# The privacy budget range and values are given\n",
        "epsilons = np.logspace(-4, 1, 20)\n",
        "print(\"\\nprivacy budgets (epsilons): \\n\", epsilons)\n",
        "\n",
        "# write your code here ...\n",
        "#Considering value of K for the number of clusters is 5\n",
        "for i in range(2, 11):\n",
        "    # Multiple runs for stable indicators\n",
        "    db_scores_tmp = []\n",
        "    ar_scores_tmp = []\n",
        "    inertias_tmp = []\n",
        "    \n",
        "    n_iteration=5\n",
        "    for j in range(0, n_iteration):\n",
        "        # Note: 'random_state' parameter should be set as default or None\n",
        "        #kmeans = KMeans(n_clusters=i, init='k-means++', max_iter=300, n_init=10)\n",
        "        kmeans = KMeans(n_clusters=i, init='random', max_iter=300)\n",
        "        kmeans.fit(X)\n",
        "        labels = kmeans.labels_\n",
        "        db_scores_tmp.append(davies_bouldin_score(X, labels))\n",
        "        ar_scores_tmp.append(adjusted_rand_score(labels, y_pred))\n",
        "        inertias_tmp.append(math.sqrt(kmeans.inertia_/X.shape[0]))\n",
        "    \n",
        "    db_scores.append(np.mean(db_scores_tmp))\n",
        "    db_scores_std.append(np.std(db_scores_tmp))\n",
        "    ar_scores.append(np.mean(ar_scores_tmp))\n",
        "    ar_scores_std.append(np.std(ar_scores_tmp))\n",
        "    inertia.append(np.mean(inertias_tmp))\n",
        "    inertia_std.append(np.std(inertias_tmp))\n",
        "\n",
        "\n",
        "\n",
        "# Plot the relationship between the classification accuracy and the privacy budget epsilon\n",
        "plt.errorbar(range(2, 11), db_scores, yerr=db_scores_std, marker='x', label='DB')\n",
        "plt.errorbar(range(2, 11), ar_scores, yerr=ar_scores_std, marker='o', label='AR')\n",
        "plt.errorbar(range(2, 11), inertia, yerr=inertia_std, marker='+', label='inertia')\n",
        "plt.title('Performance evaluation')\n",
        "plt.xlabel('Privacy budget epsilon')\n",
        "plt.ylabel('Cluster performance indicators')\n",
        "plt.legend(loc='best')\n",
        "plt.show()\n"
      ]
    },
    {
      "cell_type": "markdown",
      "metadata": {
        "id": "l6JkeJ112QQ6"
      },
      "source": [
        "**Question**: What's your observation from the plot? How could explain the changes of the trends?"
      ]
    },
    {
      "cell_type": "markdown",
      "metadata": {
        "id": "55nTi1LH2g_V"
      },
      "source": [
        "**Answer**:"
      ]
    },
    {
      "cell_type": "code",
      "execution_count": null,
      "metadata": {
        "id": "IPCPfdMIdbVc"
      },
      "outputs": [],
      "source": [
        "In the above graph, epsilon represents the x axis and Cluster performance indicators represent the y axis. \n",
        "As the david boudlin score increases, the epsilon value also increases.\n",
        "Clusters which are farther apart and less dispersed will result in a better david boudlin score.\n",
        "The Adjusted rand measures the similarity between two clusterings.\n",
        "\n",
        "A larger epsilon will produce broader clusters (encompassing more data points) and a smaller epsilon will build smaller clusters.\n",
        "As epsilon value decreases , the accuracy also decreases. \n",
        "Absolute privacy occurs when epsilon value is zero. "
      ]
    },
    {
      "cell_type": "markdown",
      "metadata": {
        "id": "yBy26jdi2uPX"
      },
      "source": [
        "### **Demo 2**. For the private linear regression model"
      ]
    },
    {
      "cell_type": "markdown",
      "metadata": {
        "id": "aRBzjgiY3vJV"
      },
      "source": [
        "We can upload a file to Colab for the notebooks execution. The following code will prompt you to select a file. Click on “Choose Files” then select and upload the file. Wait for the file to be 100% uploaded. You should see the name of the file once Colab has uploaded it."
      ]
    },
    {
      "cell_type": "code",
      "execution_count": 18,
      "metadata": {
        "colab": {
          "base_uri": "https://localhost:8080/",
          "height": 77,
          "resources": {
            "http://localhost:8080/nbextensions/google.colab/files.js": {
              "data": "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",
              "headers": [
                [
                  "content-type",
                  "application/javascript"
                ]
              ],
              "ok": true,
              "status": 200,
              "status_text": "OK"
            }
          }
        },
        "id": "LLdIEwRwpwq_",
        "outputId": "958a5ad2-0f7f-4a4f-8719-5adc3bd78e46"
      },
      "outputs": [
        {
          "output_type": "display_data",
          "data": {
            "text/plain": [
              "<IPython.core.display.HTML object>"
            ],
            "text/html": [
              "\n",
              "     <input type=\"file\" id=\"files-5e75662a-3123-4b3c-82c9-fe2d27dd0fc6\" name=\"files[]\" multiple disabled\n",
              "        style=\"border:none\" />\n",
              "     <output id=\"result-5e75662a-3123-4b3c-82c9-fe2d27dd0fc6\">\n",
              "      Upload widget is only available when the cell has been executed in the\n",
              "      current browser session. Please rerun this cell to enable.\n",
              "      </output>\n",
              "      <script src=\"/nbextensions/google.colab/files.js\"></script> "
            ]
          },
          "metadata": {}
        },
        {
          "output_type": "stream",
          "name": "stdout",
          "text": [
            "Saving houses_portland(1).csv to houses_portland(1) (1).csv\n"
          ]
        }
      ],
      "source": [
        "from google.colab import files\n",
        "uploaded = files.upload()"
      ]
    },
    {
      "cell_type": "markdown",
      "metadata": {
        "id": "DWwI_Hs25IzL"
      },
      "source": [
        "Finally, type in the following code to import it into a dataframe (make sure the filename matches the name of the uploaded file)."
      ]
    },
    {
      "cell_type": "code",
      "execution_count": 20,
      "metadata": {
        "id": "REX8LXASqTMy"
      },
      "outputs": [],
      "source": [
        "import io\n",
        "df_portland = pd.read_csv('houses_portland(1).csv')"
      ]
    },
    {
      "cell_type": "markdown",
      "metadata": {
        "id": "0NV775he4IdH"
      },
      "source": [
        "Speficy the features and the target. In this demo, we just use the attribute 'area' as the future, which has been experienced in Workshop Week 3."
      ]
    },
    {
      "cell_type": "code",
      "execution_count": null,
      "metadata": {
        "colab": {
          "base_uri": "https://localhost:8080/",
          "height": 279
        },
        "id": "ZajFoAcDid7C",
        "outputId": "6a956faf-189c-4376-d0c9-f88ed78e73e3"
      },
      "outputs": [
        {
          "data": {
            "image/png": "[encoded data removed]",
            "text/plain": [
              "<Figure size 432x288 with 1 Axes>"
            ]
          },
          "metadata": {
            "needs_background": "light"
          },
          "output_type": "display_data"
        }
      ],
      "source": [
        "X = df_portland['area'].values.reshape(-1, 1)\n",
        "y = df_portland['price'].values\n",
        "plt.scatter(X, y)\n",
        "plt.xlabel('Area')\n",
        "plt.ylabel('Price')\n",
        "plt.show()"
      ]
    },
    {
      "cell_type": "code",
      "execution_count": 21,
      "metadata": {
        "id": "e9DFHnm8jWAB"
      },
      "outputs": [],
      "source": [
        "# Train test datasets splitting.\n",
        "from sklearn.model_selection import train_test_split\n",
        "X_train, X_test, y_train, y_test = train_test_split(X, y, test_size=0.2)"
      ]
    },
    {
      "cell_type": "markdown",
      "metadata": {
        "id": "hAF-M3YE5ya5"
      },
      "source": [
        "**Import the private version of the linear regressoin model**"
      ]
    },
    {
      "cell_type": "code",
      "execution_count": 22,
      "metadata": {
        "id": "awPHZFyjjnhT"
      },
      "outputs": [],
      "source": [
        "from diffprivlib.models import LinearRegression\n",
        "dp_lr = LinearRegression(epsilon=1.0)"
      ]
    },
    {
      "cell_type": "code",
      "execution_count": 23,
      "metadata": {
        "colab": {
          "base_uri": "https://localhost:8080/"
        },
        "id": "7TZD5zgVie27",
        "outputId": "5357e785-46bd-47cb-fc73-5c5e26f1e430"
      },
      "outputs": [
        {
          "output_type": "stream",
          "name": "stderr",
          "text": [
            "/usr/local/lib/python3.7/dist-packages/diffprivlib/models/linear_regression.py:258: PrivacyLeakWarning: Bounds parameters haven't been specified, so falling back to determining bounds from the data.\n",
            "This will result in additional privacy leakage. To ensure differential privacy with no additional privacy loss, specify `bounds_X` and `bounds_y`.\n",
            "  PrivacyLeakWarning)\n"
          ]
        },
        {
          "output_type": "execute_result",
          "data": {
            "text/plain": [
              "LinearRegression(accountant=BudgetAccountant(spent_budget=[(1.0, 0), (1.0, 0), (1.0, 0), (1.0, 0), (1.0, 0), ...]),\n",
              "                 bounds_X=(array([4.3, 2. , 1. , 0.1]),\n",
              "                           array([7.9, 4.4, 6.9, 2.5])),\n",
              "                 bounds_y=(array([0.]), array([2.])))"
            ]
          },
          "metadata": {},
          "execution_count": 23
        }
      ],
      "source": [
        "dp_lr.fit(X_train, y_train)"
      ]
    },
    {
      "cell_type": "markdown",
      "metadata": {
        "id": "LxDc6LI26B-O"
      },
      "source": [
        "Evalute the linear regression performance with mean_squared_error and r2 score."
      ]
    },
    {
      "cell_type": "code",
      "execution_count": 38,
      "metadata": {
        "colab": {
          "base_uri": "https://localhost:8080/"
        },
        "id": "c4WmZbVxkjWW",
        "outputId": "d9e68416-8323-456a-c79e-185e29ab53ed"
      },
      "outputs": [
        {
          "output_type": "stream",
          "name": "stdout",
          "text": [
            "[ 10082.81402382  15652.96978012   9065.35811365   7076.33421069\n",
            "  -8534.52116957   7687.10928989  25280.16896775  -6723.04157239\n",
            "  -5714.60835695  -8068.18268812   5209.42585964  11563.15396255\n",
            "  22510.89111087  -7499.53801168  -7734.58600972  13405.93054055\n",
            "  -1184.35770765  -3601.34720393  14465.51685348  26803.93980392\n",
            "  20577.76734377  22344.52345805 -10882.83032064  -6121.28918792\n",
            "  26418.10461336   7413.17026197   1488.13306492   4607.67347517\n",
            "  11307.6035551   -4130.06456698]\n",
            "Mean squared error: 176576609.47\n",
            "Coefficient of determination: -252653335.28\n"
          ]
        }
      ],
      "source": [
        "# Performance metrics\n",
        "from sklearn.metrics import mean_squared_error, r2_score\n",
        "# Prediction/Testing\n",
        "y_pred = []\n",
        "y_pred = dp_lr.predict(X_test)\n",
        "print(y_pred)\n",
        "\n",
        "# The mean squared error\n",
        "print('Mean squared error: %.2f' %mean_squared_error(y_test, y_pred))\n",
        "# The coefficient of determination: 1 is perfect prediction\n",
        "print('Coefficient of determination: %.2f' %r2_score(y_test, y_pred))\n"
      ]
    },
    {
      "cell_type": "code",
      "execution_count": 24,
      "metadata": {
        "id": "mBTJIeahkjsz"
      },
      "outputs": [],
      "source": [
        "#R2 or R-squared is a goodness-of-fit measure for linear regression models.\n",
        "#R-squared measures scatter of the data points around the fitted regression line.\n",
        "#It is also called the coefficient of determination. "
      ]
    },
    {
      "cell_type": "markdown",
      "metadata": {
        "id": "H_Wec3f36flq"
      },
      "source": [
        "### **Task 2**: Study how eplison affects the regression performance via visualizing the relationship between epsilon and the regression performance indicator r2 we used in Workshop Week 3.\n",
        "\n",
        "You can use the same epsion range and values used in Task 1.\n",
        "\n",
        "Note that when epsilon is big enough, the model could be equivalent to the original version without noise addition. So, you can have a comparison between an original model and the differential private version."
      ]
    },
    {
      "cell_type": "code",
      "execution_count": 45,
      "metadata": {
        "id": "QFu2XwvkZaur",
        "colab": {
          "base_uri": "https://localhost:8080/",
          "height": 391
        },
        "outputId": "4aab1843-7d29-4f7a-d927-253807a9271c"
      },
      "outputs": [
        {
          "output_type": "stream",
          "name": "stdout",
          "text": [
            "Mean squared error: 176576609.47\n",
            "Coefficient of determination: -252653335.28\n"
          ]
        },
        {
          "output_type": "stream",
          "name": "stderr",
          "text": [
            "/usr/local/lib/python3.7/dist-packages/diffprivlib/models/linear_regression.py:258: PrivacyLeakWarning: Bounds parameters haven't been specified, so falling back to determining bounds from the data.\n",
            "This will result in additional privacy leakage. To ensure differential privacy with no additional privacy loss, specify `bounds_X` and `bounds_y`.\n",
            "  PrivacyLeakWarning)\n"
          ]
        },
        {
          "output_type": "display_data",
          "data": {
            "text/plain": [
              "<Figure size 432x288 with 1 Axes>"
            ],
            "image/png": "[encoded data removed]"
          },
          "metadata": {
            "needs_background": "light"
          }
        }
      ],
      "source": [
        "# Write you code here ...\n",
        "from sklearn.metrics import mean_squared_error, r2_score\n",
        "\n",
        "# The mean squared error\n",
        "print('Mean squared error: %.2f' %mean_squared_error(y_test, y_pred))\n",
        "# The coefficient of determination: 1 is perfect prediction\n",
        "print('Coefficient of determination: %.2f' %r2_score(y_test, y_pred))\n",
        "\n",
        "\n",
        "fig, ax = plt.subplots()\n",
        "ax.scatter(y_test, y_pred)\n",
        "ax.plot([y.min(), y.max()], [y.min(), y.max()], 'k--', lw=4)\n",
        "ax.set_xlabel('Epsilon')\n",
        "ax.set_ylabel('R2')\n",
        "#regression line\n",
        "y_test, y_pred = y_test.reshape(-1,1), y_pred.reshape(-1,1)\n",
        "ax.plot(y_test, LinearRegression().fit(y_test, y_pred).predict(y_test))\n",
        "\n",
        "plt.show()"
      ]
    },
    {
      "cell_type": "code",
      "execution_count": null,
      "metadata": {
        "id": "lALMy71u6_Kj"
      },
      "outputs": [],
      "source": [
        "#R2 or R-squared is a goodness-of-fit measure for linear regression models.\n",
        "#R-squared measures scatter of the data points around the fitted regression line.\n",
        "#It is also called the coefficient of determination. "
      ]
    },
    {
      "cell_type": "markdown",
      "metadata": {
        "id": "ZyccCLEO7HXP"
      },
      "source": [
        "**Question**: What's your observation from the plot? How could explain the changes of the trends?\n"
      ]
    },
    {
      "cell_type": "markdown",
      "metadata": {
        "id": "tD11N_qI7Jim"
      },
      "source": [
        "**Answer**:"
      ]
    },
    {
      "cell_type": "code",
      "execution_count": null,
      "metadata": {
        "id": "wqtpgxPN7JEj"
      },
      "outputs": [],
      "source": [
        "#As epsilon value increases, R2 value also increases. \n",
        "#Epsilon describes the random component of the linear relationship between x and y."
      ]
    }
  ],
  "metadata": {
    "colab": {
      "name": "MQ46130713_W6.ipynb",
      "provenance": [],
      "collapsed_sections": []
    },
    "kernelspec": {
      "display_name": "Python 3 (ipykernel)",
      "language": "python",
      "name": "python3"
    },
    "language_info": {
      "codemirror_mode": {
        "name": "ipython",
        "version": 3
      },
      "file_extension": ".py",
      "mimetype": "text/x-python",
      "name": "python",
      "nbconvert_exporter": "python",
      "pygments_lexer": "ipython3",
      "version": "3.7.4"
    }
  },
  "nbformat": 4,
  "nbformat_minor": 0
}